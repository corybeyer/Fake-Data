{
 "cells": [
  {
   "cell_type": "code",
   "execution_count": 1,
   "id": "93d34b45",
   "metadata": {},
   "outputs": [],
   "source": [
    "import numpy as np\n",
    "import pandas as pd\n",
    "import random \n",
    "from faker import Faker\n",
    "from faker.providers import geo, color, company, address , person, BaseProvider\n",
    "from datetime import datetime as dt"
   ]
  },
  {
   "cell_type": "code",
   "execution_count": 2,
   "id": "ff9492fa",
   "metadata": {},
   "outputs": [],
   "source": [
    "fake = Faker()"
   ]
  },
  {
   "cell_type": "code",
   "execution_count": 3,
   "id": "8a1a90e5",
   "metadata": {},
   "outputs": [],
   "source": [
    "faker_list = []\n",
    "\n",
    "for i in range(1, 3000):\n",
    "    id = i\n",
    "    first_name = fake.first_name()\n",
    "    last_name = fake.last_name()\n",
    "    dob = fake.date_of_birth()\n",
    "    address = fake.latlng()\n",
    "    email = fake.ascii_company_email()\n",
    "    phone = fake.basic_phone_number()\n",
    "    test = fake.boolean()\n",
    "    lp = fake.license_plate()\n",
    "    job = fake.job()\n",
    "    comp = fake.company()\n",
    "    \n",
    "    faker_dict = {'ID': id, 'First Name': first_name, 'Last Name': last_name, 'DOB':dob, \n",
    "                 'Address':address, 'Phone':phone, 'Boolean':test, 'LP': lp, 'Job':job, 'Company':comp}\n",
    "    \n",
    "    faker_list.append(faker_dict)\n",
    "\n",
    "customers = pd.DataFrame(faker_list)"
   ]
  },
  {
   "cell_type": "code",
   "execution_count": 5,
   "id": "770fdede",
   "metadata": {},
   "outputs": [],
   "source": [
    "product_ID = np.arange(1,16)\n",
    "product_names = [\"Widget A\",\"Widget B\",\"Widget C\",\"Widget D\",\"Super Gizmo\",\"Turbo Machine\",\"Mega Widget\",\"Mini Gizmo\",\n",
    "                 \"Power Gadget\",\"Ultra Device\",\"Nano Widget\",\"Precision Gizmo\",\"Pro Machine\",\"Quantum Gizmo\",\"Master Widget\"]\n",
    "product_price = [25, 15, 15, 69, 47, 62, 185, 1756, 45, 3, 75, 69, 487, 34, 87]"
   ]
  },
  {
   "cell_type": "code",
   "execution_count": 6,
   "id": "64baa50e",
   "metadata": {},
   "outputs": [],
   "source": [
    "product_table = pd.DataFrame({\n",
    "    'Product ID': product_ID, \n",
    "    'Product Names': product_names, \n",
    "    'Price': product_price})"
   ]
  },
  {
   "cell_type": "code",
   "execution_count": 11,
   "id": "8b086ce9",
   "metadata": {},
   "outputs": [],
   "source": [
    "transaction_list = []\n",
    "\n",
    "for i in range(1, 15000):\n",
    "    id = i\n",
    "    product_name = np.random.choice(product_names, p = [0.10, 0.10, 0.03, 0.01, 0.02, \n",
    "                                                   0.07, 0.01, 0.08, 0.12, 0.25, \n",
    "                                                   0.01, 0.01, 0.01, 0.14, 0.04 ])\n",
    "    product_id = product_table[product_table['Product Names'].isin([product_name])].index.values[0]\n",
    "    quantity = np.random.randint(low = 1, high = 8)\n",
    "    customer_id = abs(round(np.random.normal( loc = 1500, scale = 2000)))\n",
    "    Date = fake.date_between(start_date = dt(2022,1,1))\n",
    "    transaction_dict = {'ID': id, 'Date': Date, 'Product Name': product_name, \n",
    "                        'Customer ID': customer_id, 'Quantity': quantity, 'Product ID':product_id}\n",
    "    transaction_list.append(transaction_dict)\n",
    "    \n",
    "transactions = pd.DataFrame(transaction_list)"
   ]
  },
  {
   "cell_type": "code",
   "execution_count": 9,
   "id": "b69685fa",
   "metadata": {},
   "outputs": [],
   "source": [
    "company_list = []\n",
    "idx = 0\n",
    "\n",
    "for i in customers.Company.unique():\n",
    "    idx += 1\n",
    "    name = i \n",
    "    motto = fake.bs()\n",
    "    phone = fake.phone_number()\n",
    "    address = fake.address()\n",
    "    \n",
    "    company_dict = {\"Company ID\": idx, \"Name\": name, \"Motto\": motto, \"Phone\": phone, \"Address\": address}\n",
    "    company_list.append(company_dict)\n",
    "\n",
    "companies = pd.DataFrame(company_list)"
   ]
  }
 ],
 "metadata": {
  "kernelspec": {
   "display_name": "Python 3 (ipykernel)",
   "language": "python",
   "name": "python3"
  },
  "language_info": {
   "codemirror_mode": {
    "name": "ipython",
    "version": 3
   },
   "file_extension": ".py",
   "mimetype": "text/x-python",
   "name": "python",
   "nbconvert_exporter": "python",
   "pygments_lexer": "ipython3",
   "version": "3.9.16"
  }
 },
 "nbformat": 4,
 "nbformat_minor": 5
}
